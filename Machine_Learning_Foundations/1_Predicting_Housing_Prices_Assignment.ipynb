{
 "cells": [
  {
   "cell_type": "markdown",
   "metadata": {},
   "source": [
    "<h1 align=\"center\"> Predicting Housing Prices Assignment </h1>\n",
    "<h2 align=\"center\"> Michael Galarnyk </h2> <p></p>"
   ]
  },
  {
   "cell_type": "code",
   "execution_count": 153,
   "metadata": {
    "collapsed": false
   },
   "outputs": [],
   "source": [
    "%matplotlib inline\n",
    "import matplotlib.pyplot as plt\n",
    "import numpy as np\n",
    "import pandas as pd"
   ]
  },
  {
   "cell_type": "markdown",
   "metadata": {},
   "source": [
    "<h2 align=\"center\">Loading Home Data csv file </h2> <p></p>"
   ]
  },
  {
   "cell_type": "code",
   "execution_count": 154,
   "metadata": {
    "collapsed": false
   },
   "outputs": [],
   "source": [
    "home_data = pd.read_csv('home_data.csv')\n",
    "df = home_data[['price', 'zipcode']]"
   ]
  },
  {
   "cell_type": "code",
   "execution_count": 155,
   "metadata": {
    "collapsed": false
   },
   "outputs": [
    {
     "data": {
      "text/html": [
       "<div>\n",
       "<table border=\"1\" class=\"dataframe\">\n",
       "  <thead>\n",
       "    <tr style=\"text-align: right;\">\n",
       "      <th></th>\n",
       "      <th>zipcode</th>\n",
       "      <th>price</th>\n",
       "    </tr>\n",
       "  </thead>\n",
       "  <tbody>\n",
       "    <tr>\n",
       "      <th>24</th>\n",
       "      <td>98039</td>\n",
       "      <td>2160606</td>\n",
       "    </tr>\n",
       "  </tbody>\n",
       "</table>\n",
       "</div>"
      ],
      "text/plain": [
       "    zipcode    price\n",
       "24    98039  2160606"
      ]
     },
     "execution_count": 155,
     "metadata": {},
     "output_type": "execute_result"
    }
   ],
   "source": [
    "zip_AVG_price = pd.DataFrame(data = df.groupby('zipcode', as_index=False).mean())\n",
    "zip_AVG_price.sort_values(['price'],ascending=False).head(1)"
   ]
  },
  {
   "cell_type": "markdown",
   "metadata": {},
   "source": [
    "<h2 align=\"center\">(a) The price for zipcode: 98039 is 2,160,606  </h2> <p></p>"
   ]
  },
  {
   "cell_type": "code",
   "execution_count": 156,
   "metadata": {
    "collapsed": false
   },
   "outputs": [
    {
     "name": "stdout",
     "output_type": "stream",
     "text": [
      "original array size:  21613\n",
      "new array size:  9118\n",
      "Fraction of all houses from > 2000 to 4000 is: 0.42\n"
     ]
    }
   ],
   "source": [
    "print 'original array size: ', len(home_data.index)\n",
    "\n",
    "square_range_df = home_data[(home_data['sqft_living'] > 2000) & (home_data['sqft_living'] <= 4000)]\n",
    "print 'new array size: ', len(square_range_df.index)\n",
    "print 'Fraction of all houses from > 2000 to 4000 is: %.2f' % (len(square_range_df.index)/float(len(home_data.index)))"
   ]
  },
  {
   "cell_type": "markdown",
   "metadata": {},
   "source": [
    "<h2 align=\"center\">(b) The fraction of all houses with square footage in the range of (2000, 4000] is .42  </h2> <p></p>"
   ]
  },
  {
   "cell_type": "code",
   "execution_count": 180,
   "metadata": {
    "collapsed": false
   },
   "outputs": [
    {
     "data": {
      "text/plain": [
       "(17290, 4323)"
      ]
     },
     "execution_count": 180,
     "metadata": {},
     "output_type": "execute_result"
    }
   ],
   "source": [
    "%matplotlib inline \n",
    "from sklearn.linear_model import LinearRegression\n",
    "\n",
    "advanced_features = ['bedrooms', 'bathrooms', 'sqft_living', 'sqft_lot', 'floors', 'zipcode','condition','grade','waterfront','view','sqft_above','sqft_basement','yr_built','yr_renovated','lat', 'long','sqft_living15','sqft_lot15']\n",
    "train_data = home_data.iloc[0: int(8 * len(home_data)/10)]\n",
    "test_data = home_data.iloc[int(8 * len(home_data)/10):]\n",
    "X = train_data[advanced_features]\n",
    "y = train_data['price']\n",
    "\n",
    "lm = LinearRegression()\n",
    "lm.fit(X, y)\n",
    "lm.coef_\n",
    "# print coefficients\n",
    "features_coef = zip(advanced_features, lm.coef_)\n",
    "len(train_data), len(test_data)"
   ]
  },
  {
   "cell_type": "markdown",
   "metadata": {},
   "source": [
    "<h2 align=\"center\"> Simple Regression</h2> <p></p>"
   ]
  },
  {
   "cell_type": "code",
   "execution_count": 237,
   "metadata": {
    "collapsed": false
   },
   "outputs": [
    {
     "data": {
      "text/plain": [
       "[<matplotlib.lines.Line2D at 0x119b19fd0>]"
      ]
     },
     "execution_count": 237,
     "metadata": {},
     "output_type": "execute_result"
    },
    {
     "data": {
      "image/png": "[encoded data removed]",
      "text/plain": [
       "<matplotlib.figure.Figure at 0x11916d110>"
      ]
     },
     "metadata": {},
     "output_type": "display_data"
    }
   ],
   "source": [
    "%matplotlib inline \n",
    "import matplotlib.pyplot as plt\n",
    "from sklearn.linear_model import LinearRegression\n",
    "\n",
    "train_data = home_data.iloc[0: int(8 * len(home_data)/10)]\n",
    "test_data = home_data.iloc[int(8 * len(home_data)/10):]\n",
    "X = train_data['sqft_living']\n",
    "y = train_data['price']\n",
    "\n",
    "lm = LinearRegression()\n",
    "\n",
    "X, y = X.reshape(17290,1), y.reshape(17290,1)\n",
    "#print X.shape, y.shape\n",
    "lm = LinearRegression()\n",
    "lm.fit(X, y)\n",
    "lm.coef_\n",
    "\n",
    "test_data['sqft_living'].reshape(4323,1)\n",
    "# print coefficients\n",
    "plt.plot(test_data['sqft_living'],test_data['price'], '.') \n",
    "\n",
    "# need to reshape for test_data because the coef were found with reshape\n",
    "plt.plot(test_data['sqft_living'],lm.predict(test_data['sqft_living'].reshape(4323,1)), '-') "
   ]
  },
  {
   "cell_type": "markdown",
   "metadata": {},
   "source": [
    "<h1 align=\"center\"> Find Root Mean Squared Error </h1> <p></p>"
   ]
  },
  {
   "cell_type": "markdown",
   "metadata": {},
   "source": [
    "<img src = images/rmse.png>"
   ]
  },
  {
   "cell_type": "code",
   "execution_count": 246,
   "metadata": {
    "collapsed": false
   },
   "outputs": [
    {
     "name": "stdout",
     "output_type": "stream",
     "text": [
      "simple RMSE: 264006.802692\n"
     ]
    }
   ],
   "source": [
    "from sklearn.metrics import mean_squared_error\n",
    "\n",
    "\n",
    "\n",
    "advanced_features = ['bedrooms', 'bathrooms', 'sqft_living', 'sqft_lot', 'floors', 'zipcode','condition','grade','waterfront','view','sqft_above','sqft_basement','yr_built','yr_renovated','lat', 'long','sqft_living15','sqft_lot15']\n",
    "\n",
    "RMSE = mean_squared_error(test_data['price'], lm.predict(test_data['sqft_living'].reshape(4323,1)))**0.5\n",
    "print 'simple RMSE:', RMSE"
   ]
  },
  {
   "cell_type": "markdown",
   "metadata": {},
   "source": [
    "<h2 align=\"center\"> My Features Regression</h2> <p></p>"
   ]
  },
  {
   "cell_type": "code",
   "execution_count": 247,
   "metadata": {
    "collapsed": true
   },
   "outputs": [],
   "source": [
    "my_features = ['bedrooms', 'bathrooms', 'sqft_living', 'sqft_lot', 'floors', 'zipcode']"
   ]
  },
  {
   "cell_type": "code",
   "execution_count": 261,
   "metadata": {
    "collapsed": false
   },
   "outputs": [
    {
     "data": {
      "text/plain": [
       "256202.95937029869"
      ]
     },
     "execution_count": 261,
     "metadata": {},
     "output_type": "execute_result"
    }
   ],
   "source": [
    "train_data = home_data.iloc[0: int(8 * len(home_data)/10)]\n",
    "test_data = home_data.iloc[int(8 * len(home_data)/10):]\n",
    "X = train_data[my_features]\n",
    "y = train_data['price']\n",
    "\n",
    "lm = LinearRegression()\n",
    "\n",
    "lm = LinearRegression()\n",
    "lm.fit(X, y)\n",
    "lm.coef_\n",
    "\n",
    "# can make subplots and such later\n",
    "#plt.plot(test_data[my_features],test_data['price'], '.') \n",
    "#plt.plot(test_data[my_features],lm.predict(test_data[my_features]), '*') \n",
    "RMSE = mean_squared_error(test_data['price'], lm.predict(test_data[my_features]))**0.5\n",
    "RMSE"
   ]
  },
  {
   "cell_type": "code",
   "execution_count": 256,
   "metadata": {
    "collapsed": false
   },
   "outputs": [
    {
     "data": {
      "text/plain": [
       "array([ -5.40073595e+04,   8.10576804e+03,   3.19812908e+02,\n",
       "        -3.25259364e-01,  -6.01933221e+03,   5.18598044e+02])"
      ]
     },
     "execution_count": 256,
     "metadata": {},
     "output_type": "execute_result"
    }
   ],
   "source": [
    "lm.coef_"
   ]
  },
  {
   "cell_type": "code",
   "execution_count": null,
   "metadata": {
    "collapsed": true
   },
   "outputs": [],
   "source": []
  }
 ],
 "metadata": {
  "kernelspec": {
   "display_name": "Python 2",
   "language": "python",
   "name": "python2"
  },
  "language_info": {
   "codemirror_mode": {
    "name": "ipython",
    "version": 2
   },
   "file_extension": ".py",
   "mimetype": "text/x-python",
   "name": "python",
   "nbconvert_exporter": "python",
   "pygments_lexer": "ipython2",
   "version": "2.7.11"
  }
 },
 "nbformat": 4,
 "nbformat_minor": 0
}
